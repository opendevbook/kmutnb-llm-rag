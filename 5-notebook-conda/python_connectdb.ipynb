{
 "cells": [
  {
   "cell_type": "markdown",
   "id": "ebeb3ce8-9d11-4023-922f-403e381baa17",
   "metadata": {},
   "source": [
    "### Install dependecies"
   ]
  },
  {
   "cell_type": "code",
   "execution_count": 3,
   "id": "0694d73f-e427-411b-88d6-10a7aedd2d07",
   "metadata": {},
   "outputs": [
    {
     "name": "stdout",
     "output_type": "stream",
     "text": [
      "Requirement already satisfied: psycopg2-binary in ./.venv/lib/python3.12/site-packages (2.9.10)\n",
      "Collecting numpy\n",
      "  Downloading numpy-2.3.1-cp312-cp312-manylinux_2_28_x86_64.whl.metadata (62 kB)\n",
      "Downloading numpy-2.3.1-cp312-cp312-manylinux_2_28_x86_64.whl (16.6 MB)\n",
      "\u001b[2K   \u001b[90m━━━━━━━━━━━━━━━━━━━━━━━━━━━━━━━━━━━━━━━━\u001b[0m \u001b[32m16.6/16.6 MB\u001b[0m \u001b[31m7.2 MB/s\u001b[0m eta \u001b[36m0:00:00\u001b[0m00:01\u001b[0m00:01\u001b[0m\n",
      "\u001b[?25hInstalling collected packages: numpy\n",
      "Successfully installed numpy-2.3.1\n"
     ]
    }
   ],
   "source": [
    "!pip install psycopg2-binary\n",
    "!pip install numpy"
   ]
  },
  {
   "cell_type": "markdown",
   "id": "d4b219c5-3c8e-4bc2-b417-467a9d832b1c",
   "metadata": {},
   "source": [
    "### Connection to Database from python"
   ]
  },
  {
   "cell_type": "markdown",
   "id": "1d110a27-3aa6-4499-a3eb-0744242115c8",
   "metadata": {},
   "source": [
    "import psycopg2\n",
    "from psycopg2 import sql\n",
    "\n",
    "# Connect to your PostgreSQL database\n",
    "conn = psycopg2.connect(\n",
    "    dbname=\"vectordb\",\n",
    "    user=\"postgres\",\n",
    "    password=\"postgres\",\n",
    "    host=\"localhost\"\n",
    ")\n",
    "\n",
    "try:\n",
    "    with conn.cursor() as cur:\n",
    "        cur.execute(\"CREATE EXTENSION IF NOT EXISTS vector;\")\n",
    "        # Create table if it doesn't exist\n",
    "        cur.execute(\"\"\"\n",
    "            CREATE TABLE IF NOT EXISTS items (\n",
    "                id serial PRIMARY KEY,\n",
    "                embedding vector(3),\n",
    "                content text,\n",
    "                created_at timestamptz DEFAULT now()\n",
    "            );\n",
    "        \"\"\")\n",
    "        conn.commit()\n",
    "        print(\"Table created successfully or already exists\")\n",
    "        \n",
    "        # Verify table exists\n",
    "        cur.execute(\"\"\"\n",
    "            SELECT EXISTS (\n",
    "                SELECT FROM information_schema.tables \n",
    "                WHERE table_name = 'items'\n",
    "            );\n",
    "        \"\"\")\n",
    "        exists = cur.fetchone()[0]\n",
    "        print(f\"Table exists: {exists}\")\n",
    "        \n",
    "except Exception as e:\n",
    "    print(f\"Error: {e}\")\n",
    "    conn.rollback()\n",
    "finally:\n",
    "    conn.close()\n"
   ]
  }
 ],
 "metadata": {
  "kernelspec": {
   "display_name": "Python 3 (ipykernel)",
   "language": "python",
   "name": "python3"
  },
  "language_info": {
   "codemirror_mode": {
    "name": "ipython",
    "version": 3
   },
   "file_extension": ".py",
   "mimetype": "text/x-python",
   "name": "python",
   "nbconvert_exporter": "python",
   "pygments_lexer": "ipython3",
   "version": "3.12.3"
  }
 },
 "nbformat": 4,
 "nbformat_minor": 5
}
